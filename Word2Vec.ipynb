{
 "cells": [
  {
   "cell_type": "code",
   "execution_count": 43,
   "metadata": {},
   "outputs": [],
   "source": [
    "import math\n",
    "\n",
    "import gensim\n",
    "import numpy as np\n",
    "import pandas as pd\n",
    "import spacy\n",
    "import textacy\n",
    "from gensim.models import KeyedVectors, Word2Vec\n",
    "from scipy.spatial import distance\n",
    "from tqdm import tqdm\n",
    "\n",
    "pd.set_option('display.max_colwidth', None)"
   ]
  },
  {
   "cell_type": "code",
   "execution_count": 44,
   "metadata": {},
   "outputs": [],
   "source": [
    "df = pd.read_csv(\"./data/FAQs.csv\",encoding='utf-8')"
   ]
  },
  {
   "cell_type": "code",
   "execution_count": 45,
   "metadata": {},
   "outputs": [
    {
     "data": {
      "text/html": [
       "<div>\n",
       "<style scoped>\n",
       "    .dataframe tbody tr th:only-of-type {\n",
       "        vertical-align: middle;\n",
       "    }\n",
       "\n",
       "    .dataframe tbody tr th {\n",
       "        vertical-align: top;\n",
       "    }\n",
       "\n",
       "    .dataframe thead th {\n",
       "        text-align: right;\n",
       "    }\n",
       "</style>\n",
       "<table border=\"1\" class=\"dataframe\">\n",
       "  <thead>\n",
       "    <tr style=\"text-align: right;\">\n",
       "      <th></th>\n",
       "      <th>Question</th>\n",
       "      <th>Answer</th>\n",
       "    </tr>\n",
       "  </thead>\n",
       "  <tbody>\n",
       "    <tr>\n",
       "      <th>0</th>\n",
       "      <td>When was Albert Einstein born?</td>\n",
       "      <td>Albert Einstein was born on 14 March 1879.</td>\n",
       "    </tr>\n",
       "    <tr>\n",
       "      <th>1</th>\n",
       "      <td>Where was he born?</td>\n",
       "      <td>He was born in Ulm, Germany.</td>\n",
       "    </tr>\n",
       "    <tr>\n",
       "      <th>2</th>\n",
       "      <td>When did he die?</td>\n",
       "      <td>He died 18 April 1955 in Princeton, New Jersey, USA.</td>\n",
       "    </tr>\n",
       "    <tr>\n",
       "      <th>3</th>\n",
       "      <td>Who were his parents?</td>\n",
       "      <td>His father was Hermann Einstein and his mother was Pauline Einstein (born Koch).</td>\n",
       "    </tr>\n",
       "    <tr>\n",
       "      <th>4</th>\n",
       "      <td>Did he have any sisters and brothers?</td>\n",
       "      <td>He had one sister named Maja.</td>\n",
       "    </tr>\n",
       "    <tr>\n",
       "      <th>5</th>\n",
       "      <td>Did he marry and have children?</td>\n",
       "      <td>He was married to Mileva Marić between 1903 and 1919. They had three children, Lieserl (born 1902), Hans Albert (born 1904) and Eduard (born 1910). He married Elsa Löwenthal in 1919 and they lived together until her death in 1936.</td>\n",
       "    </tr>\n",
       "    <tr>\n",
       "      <th>6</th>\n",
       "      <td>Where did he receive his education?</td>\n",
       "      <td>He received his main education at the following schools: Catholic elementary school in Munich, Germany (1885-1888)Luitpold Gymnasium in Munich, Germany (1888-1894) Cantonal school in Aarau, Switzerland (1895-1896) Swiss Federal Institute of Technology in Zurich, Switzerland (1896-1900) Ph.D. from Zurich University, Switzerland (1905)</td>\n",
       "    </tr>\n",
       "    <tr>\n",
       "      <th>7</th>\n",
       "      <td>When was Albert Einstein awarded the Nobel Prize in Physics?</td>\n",
       "      <td>The Nobel Prize Awarding Institution, the Royal Swedish Academy of Sciences, decided to reserve the Nobel Prize in Physics in 1921, and therefore no Physics Prize was awarded that year. According to the statutes, a reserved prize can be awarded the year after, and Albert Einstein was awarded the 1921 Nobel Prize in Physics in 1922.</td>\n",
       "    </tr>\n",
       "    <tr>\n",
       "      <th>8</th>\n",
       "      <td>Did Albert Einstein attend the Nobel Prize Award Ceremony?</td>\n",
       "      <td>The Nobel Prize was announced on 9 November 1922. Being too remote from Sweden, Albert Einstein could not attend the Nobel Prize Award Ceremony in Stockholm on 10 December the same year.</td>\n",
       "    </tr>\n",
       "    <tr>\n",
       "      <th>9</th>\n",
       "      <td>For what did he receive the Nobel Prize?</td>\n",
       "      <td>Einstein was rewarded for his many contributions to theoretical physics, and especially for his discovery of the law of the photoelectric effect.</td>\n",
       "    </tr>\n",
       "  </tbody>\n",
       "</table>\n",
       "</div>"
      ],
      "text/plain": [
       "                                                       Question  \\\n",
       "0                                When was Albert Einstein born?   \n",
       "1                                            Where was he born?   \n",
       "2                                              When did he die?   \n",
       "3                                         Who were his parents?   \n",
       "4                         Did he have any sisters and brothers?   \n",
       "5                               Did he marry and have children?   \n",
       "6                           Where did he receive his education?   \n",
       "7  When was Albert Einstein awarded the Nobel Prize in Physics?   \n",
       "8    Did Albert Einstein attend the Nobel Prize Award Ceremony?   \n",
       "9                      For what did he receive the Nobel Prize?   \n",
       "\n",
       "                                                                                                                                                                                                                                                                                                                                            Answer  \n",
       "0                                                                                                                                                                                                                                                                                                       Albert Einstein was born on 14 March 1879.  \n",
       "1                                                                                                                                                                                                                                                                                                                    He was born in Ulm, Germany.   \n",
       "2                                                                                                                                                                                                                                                                                             He died 18 April 1955 in Princeton, New Jersey, USA.  \n",
       "3                                                                                                                                                                                                                                                                 His father was Hermann Einstein and his mother was Pauline Einstein (born Koch).  \n",
       "4                                                                                                                                                                                                                                                                                                                    He had one sister named Maja.  \n",
       "5                                                                                                           He was married to Mileva Marić between 1903 and 1919. They had three children, Lieserl (born 1902), Hans Albert (born 1904) and Eduard (born 1910). He married Elsa Löwenthal in 1919 and they lived together until her death in 1936.  \n",
       "6  He received his main education at the following schools: Catholic elementary school in Munich, Germany (1885-1888)Luitpold Gymnasium in Munich, Germany (1888-1894) Cantonal school in Aarau, Switzerland (1895-1896) Swiss Federal Institute of Technology in Zurich, Switzerland (1896-1900) Ph.D. from Zurich University, Switzerland (1905)  \n",
       "7    The Nobel Prize Awarding Institution, the Royal Swedish Academy of Sciences, decided to reserve the Nobel Prize in Physics in 1921, and therefore no Physics Prize was awarded that year. According to the statutes, a reserved prize can be awarded the year after, and Albert Einstein was awarded the 1921 Nobel Prize in Physics in 1922.  \n",
       "8                                                                                                                                                       The Nobel Prize was announced on 9 November 1922. Being too remote from Sweden, Albert Einstein could not attend the Nobel Prize Award Ceremony in Stockholm on 10 December the same year.  \n",
       "9                                                                                                                                                                                                Einstein was rewarded for his many contributions to theoretical physics, and especially for his discovery of the law of the photoelectric effect.  "
      ]
     },
     "execution_count": 45,
     "metadata": {},
     "output_type": "execute_result"
    }
   ],
   "source": [
    "df"
   ]
  },
  {
   "cell_type": "code",
   "execution_count": 46,
   "metadata": {},
   "outputs": [],
   "source": [
    "test_df = pd.read_csv(\"./data/FAQs_test.csv\")"
   ]
  },
  {
   "cell_type": "code",
   "execution_count": 47,
   "metadata": {},
   "outputs": [
    {
     "data": {
      "text/html": [
       "<div>\n",
       "<style scoped>\n",
       "    .dataframe tbody tr th:only-of-type {\n",
       "        vertical-align: middle;\n",
       "    }\n",
       "\n",
       "    .dataframe tbody tr th {\n",
       "        vertical-align: top;\n",
       "    }\n",
       "\n",
       "    .dataframe thead th {\n",
       "        text-align: right;\n",
       "    }\n",
       "</style>\n",
       "<table border=\"1\" class=\"dataframe\">\n",
       "  <thead>\n",
       "    <tr style=\"text-align: right;\">\n",
       "      <th></th>\n",
       "      <th>Question</th>\n",
       "    </tr>\n",
       "  </thead>\n",
       "  <tbody>\n",
       "    <tr>\n",
       "      <th>0</th>\n",
       "      <td>What is the date of his death?</td>\n",
       "    </tr>\n",
       "    <tr>\n",
       "      <th>1</th>\n",
       "      <td>Did Einstein have siblings?</td>\n",
       "    </tr>\n",
       "    <tr>\n",
       "      <th>2</th>\n",
       "      <td>Who was his wife?</td>\n",
       "    </tr>\n",
       "    <tr>\n",
       "      <th>3</th>\n",
       "      <td>What was Einstein's father's name?</td>\n",
       "    </tr>\n",
       "    <tr>\n",
       "      <th>4</th>\n",
       "      <td>At what institutions did he study?</td>\n",
       "    </tr>\n",
       "  </tbody>\n",
       "</table>\n",
       "</div>"
      ],
      "text/plain": [
       "                             Question\n",
       "0      What is the date of his death?\n",
       "1         Did Einstein have siblings?\n",
       "2                   Who was his wife?\n",
       "3  What was Einstein's father's name?\n",
       "4  At what institutions did he study?"
      ]
     },
     "execution_count": 47,
     "metadata": {},
     "output_type": "execute_result"
    }
   ],
   "source": [
    "test_df"
   ]
  },
  {
   "cell_type": "markdown",
   "metadata": {},
   "source": [
    "### Training own Embedding"
   ]
  },
  {
   "cell_type": "markdown",
   "metadata": {},
   "source": [
    "#### Extracting Lemmas"
   ]
  },
  {
   "cell_type": "code",
   "execution_count": 48,
   "metadata": {},
   "outputs": [],
   "source": [
    "def extract_lemmas(doc,**kwargs):\n",
    "    return [t.lemma_ for t in textacy.extract.words(doc,**kwargs)]"
   ]
  },
  {
   "cell_type": "code",
   "execution_count": 49,
   "metadata": {},
   "outputs": [],
   "source": [
    "def extract_nlp(doc):\n",
    "    return {\n",
    "        'lemmas': extract_lemmas(doc,\n",
    "                                 exclude_pos=['PART', 'PUNCT',\n",
    "                                              'DET', 'PRON', 'SYM', 'SPACE'],\n",
    "                                 filter_stops=False),\n",
    "    }\n"
   ]
  },
  {
   "cell_type": "code",
   "execution_count": 50,
   "metadata": {},
   "outputs": [],
   "source": [
    "nlp = spacy.load('en_core_web_sm')"
   ]
  },
  {
   "cell_type": "code",
   "execution_count": 51,
   "metadata": {},
   "outputs": [
    {
     "name": "stdout",
     "output_type": "stream",
     "text": [
      "['lemmas']\n"
     ]
    }
   ],
   "source": [
    "nlp_columns = list(extract_nlp(nlp.make_doc('')).keys())\n",
    "print(nlp_columns)"
   ]
  },
  {
   "cell_type": "code",
   "execution_count": 52,
   "metadata": {},
   "outputs": [],
   "source": [
    "for col in nlp_columns:\n",
    "    df[col] = None"
   ]
  },
  {
   "cell_type": "code",
   "execution_count": 53,
   "metadata": {},
   "outputs": [
    {
     "name": "stderr",
     "output_type": "stream",
     "text": [
      "100%|██████████| 1/1 [00:00<00:00, 52.63it/s]\n"
     ]
    }
   ],
   "source": [
    "batch_size = 50\n",
    "batches = math.ceil(len(df) / batch_size)\n",
    "\n",
    "for i in tqdm(range(0, len(df), batch_size), total=batches):\n",
    "    docs = nlp.pipe(df['Question'][i:i+batch_size])\n",
    "\n",
    "    for j, doc in enumerate(docs):\n",
    "        for col, values in extract_nlp(doc).items():\n",
    "            df[col].iloc[i+j] = values"
   ]
  },
  {
   "cell_type": "code",
   "execution_count": 54,
   "metadata": {},
   "outputs": [],
   "source": [
    "df[nlp_columns] = df[nlp_columns].applymap(lambda items: ' '.join(items))"
   ]
  },
  {
   "cell_type": "code",
   "execution_count": 55,
   "metadata": {},
   "outputs": [
    {
     "data": {
      "text/html": [
       "<div>\n",
       "<style scoped>\n",
       "    .dataframe tbody tr th:only-of-type {\n",
       "        vertical-align: middle;\n",
       "    }\n",
       "\n",
       "    .dataframe tbody tr th {\n",
       "        vertical-align: top;\n",
       "    }\n",
       "\n",
       "    .dataframe thead th {\n",
       "        text-align: right;\n",
       "    }\n",
       "</style>\n",
       "<table border=\"1\" class=\"dataframe\">\n",
       "  <thead>\n",
       "    <tr style=\"text-align: right;\">\n",
       "      <th></th>\n",
       "      <th>Question</th>\n",
       "      <th>Answer</th>\n",
       "      <th>lemmas</th>\n",
       "    </tr>\n",
       "  </thead>\n",
       "  <tbody>\n",
       "    <tr>\n",
       "      <th>0</th>\n",
       "      <td>When was Albert Einstein born?</td>\n",
       "      <td>Albert Einstein was born on 14 March 1879.</td>\n",
       "      <td>when be Albert Einstein bear</td>\n",
       "    </tr>\n",
       "    <tr>\n",
       "      <th>1</th>\n",
       "      <td>Where was he born?</td>\n",
       "      <td>He was born in Ulm, Germany.</td>\n",
       "      <td>where be bear</td>\n",
       "    </tr>\n",
       "    <tr>\n",
       "      <th>2</th>\n",
       "      <td>When did he die?</td>\n",
       "      <td>He died 18 April 1955 in Princeton, New Jersey, USA.</td>\n",
       "      <td>when do die</td>\n",
       "    </tr>\n",
       "    <tr>\n",
       "      <th>3</th>\n",
       "      <td>Who were his parents?</td>\n",
       "      <td>His father was Hermann Einstein and his mother was Pauline Einstein (born Koch).</td>\n",
       "      <td>be parent</td>\n",
       "    </tr>\n",
       "    <tr>\n",
       "      <th>4</th>\n",
       "      <td>Did he have any sisters and brothers?</td>\n",
       "      <td>He had one sister named Maja.</td>\n",
       "      <td>do have sister and brother</td>\n",
       "    </tr>\n",
       "    <tr>\n",
       "      <th>5</th>\n",
       "      <td>Did he marry and have children?</td>\n",
       "      <td>He was married to Mileva Marić between 1903 and 1919. They had three children, Lieserl (born 1902), Hans Albert (born 1904) and Eduard (born 1910). He married Elsa Löwenthal in 1919 and they lived together until her death in 1936.</td>\n",
       "      <td>do marry and have child</td>\n",
       "    </tr>\n",
       "    <tr>\n",
       "      <th>6</th>\n",
       "      <td>Where did he receive his education?</td>\n",
       "      <td>He received his main education at the following schools: Catholic elementary school in Munich, Germany (1885-1888)Luitpold Gymnasium in Munich, Germany (1888-1894) Cantonal school in Aarau, Switzerland (1895-1896) Swiss Federal Institute of Technology in Zurich, Switzerland (1896-1900) Ph.D. from Zurich University, Switzerland (1905)</td>\n",
       "      <td>where do receive education</td>\n",
       "    </tr>\n",
       "    <tr>\n",
       "      <th>7</th>\n",
       "      <td>When was Albert Einstein awarded the Nobel Prize in Physics?</td>\n",
       "      <td>The Nobel Prize Awarding Institution, the Royal Swedish Academy of Sciences, decided to reserve the Nobel Prize in Physics in 1921, and therefore no Physics Prize was awarded that year. According to the statutes, a reserved prize can be awarded the year after, and Albert Einstein was awarded the 1921 Nobel Prize in Physics in 1922.</td>\n",
       "      <td>when be Albert Einstein award Nobel Prize in Physics</td>\n",
       "    </tr>\n",
       "    <tr>\n",
       "      <th>8</th>\n",
       "      <td>Did Albert Einstein attend the Nobel Prize Award Ceremony?</td>\n",
       "      <td>The Nobel Prize was announced on 9 November 1922. Being too remote from Sweden, Albert Einstein could not attend the Nobel Prize Award Ceremony in Stockholm on 10 December the same year.</td>\n",
       "      <td>do Albert Einstein attend Nobel Prize Award Ceremony</td>\n",
       "    </tr>\n",
       "    <tr>\n",
       "      <th>9</th>\n",
       "      <td>For what did he receive the Nobel Prize?</td>\n",
       "      <td>Einstein was rewarded for his many contributions to theoretical physics, and especially for his discovery of the law of the photoelectric effect.</td>\n",
       "      <td>for do receive Nobel Prize</td>\n",
       "    </tr>\n",
       "  </tbody>\n",
       "</table>\n",
       "</div>"
      ],
      "text/plain": [
       "                                                       Question  \\\n",
       "0                                When was Albert Einstein born?   \n",
       "1                                            Where was he born?   \n",
       "2                                              When did he die?   \n",
       "3                                         Who were his parents?   \n",
       "4                         Did he have any sisters and brothers?   \n",
       "5                               Did he marry and have children?   \n",
       "6                           Where did he receive his education?   \n",
       "7  When was Albert Einstein awarded the Nobel Prize in Physics?   \n",
       "8    Did Albert Einstein attend the Nobel Prize Award Ceremony?   \n",
       "9                      For what did he receive the Nobel Prize?   \n",
       "\n",
       "                                                                                                                                                                                                                                                                                                                                            Answer  \\\n",
       "0                                                                                                                                                                                                                                                                                                       Albert Einstein was born on 14 March 1879.   \n",
       "1                                                                                                                                                                                                                                                                                                                    He was born in Ulm, Germany.    \n",
       "2                                                                                                                                                                                                                                                                                             He died 18 April 1955 in Princeton, New Jersey, USA.   \n",
       "3                                                                                                                                                                                                                                                                 His father was Hermann Einstein and his mother was Pauline Einstein (born Koch).   \n",
       "4                                                                                                                                                                                                                                                                                                                    He had one sister named Maja.   \n",
       "5                                                                                                           He was married to Mileva Marić between 1903 and 1919. They had three children, Lieserl (born 1902), Hans Albert (born 1904) and Eduard (born 1910). He married Elsa Löwenthal in 1919 and they lived together until her death in 1936.   \n",
       "6  He received his main education at the following schools: Catholic elementary school in Munich, Germany (1885-1888)Luitpold Gymnasium in Munich, Germany (1888-1894) Cantonal school in Aarau, Switzerland (1895-1896) Swiss Federal Institute of Technology in Zurich, Switzerland (1896-1900) Ph.D. from Zurich University, Switzerland (1905)   \n",
       "7    The Nobel Prize Awarding Institution, the Royal Swedish Academy of Sciences, decided to reserve the Nobel Prize in Physics in 1921, and therefore no Physics Prize was awarded that year. According to the statutes, a reserved prize can be awarded the year after, and Albert Einstein was awarded the 1921 Nobel Prize in Physics in 1922.   \n",
       "8                                                                                                                                                       The Nobel Prize was announced on 9 November 1922. Being too remote from Sweden, Albert Einstein could not attend the Nobel Prize Award Ceremony in Stockholm on 10 December the same year.   \n",
       "9                                                                                                                                                                                                Einstein was rewarded for his many contributions to theoretical physics, and especially for his discovery of the law of the photoelectric effect.   \n",
       "\n",
       "                                                 lemmas  \n",
       "0                          when be Albert Einstein bear  \n",
       "1                                         where be bear  \n",
       "2                                           when do die  \n",
       "3                                             be parent  \n",
       "4                            do have sister and brother  \n",
       "5                               do marry and have child  \n",
       "6                            where do receive education  \n",
       "7  when be Albert Einstein award Nobel Prize in Physics  \n",
       "8  do Albert Einstein attend Nobel Prize Award Ceremony  \n",
       "9                            for do receive Nobel Prize  "
      ]
     },
     "execution_count": 55,
     "metadata": {},
     "output_type": "execute_result"
    }
   ],
   "source": [
    "df"
   ]
  },
  {
   "cell_type": "code",
   "execution_count": 56,
   "metadata": {},
   "outputs": [],
   "source": [
    "# lower casing the tokens\n",
    "df['lemmas'] = df['lemmas'].str.lower().str.split()"
   ]
  },
  {
   "cell_type": "code",
   "execution_count": 57,
   "metadata": {},
   "outputs": [],
   "source": [
    "questions = df['lemmas']"
   ]
  },
  {
   "cell_type": "code",
   "execution_count": 58,
   "metadata": {},
   "outputs": [
    {
     "data": {
      "text/plain": [
       "0                                [when, be, albert, einstein, bear]\n",
       "1                                                 [where, be, bear]\n",
       "2                                                   [when, do, die]\n",
       "3                                                      [be, parent]\n",
       "4                                  [do, have, sister, and, brother]\n",
       "5                                     [do, marry, and, have, child]\n",
       "6                                   [where, do, receive, education]\n",
       "7    [when, be, albert, einstein, award, nobel, prize, in, physics]\n",
       "8     [do, albert, einstein, attend, nobel, prize, award, ceremony]\n",
       "9                                  [for, do, receive, nobel, prize]\n",
       "Name: lemmas, dtype: object"
      ]
     },
     "execution_count": 58,
     "metadata": {},
     "output_type": "execute_result"
    }
   ],
   "source": [
    "questions"
   ]
  },
  {
   "cell_type": "markdown",
   "metadata": {},
   "source": [
    "#### Training Models with Gensim"
   ]
  },
  {
   "cell_type": "code",
   "execution_count": 59,
   "metadata": {},
   "outputs": [],
   "source": [
    "model = Word2Vec(\n",
    "    questions,  # tokenized input sentences\n",
    "    vector_size=100,  # size of word vectors (default 100)\n",
    "    window=3,  # context window size (default 5)\n",
    "    sg=0,  # use skip-gram (default 0 = CBOW)\n",
    "    min_count=1,  # ignore infrequent words (default 5)\n",
    "    epochs=5  # number of epochs (default 5)\n",
    ")"
   ]
  },
  {
   "cell_type": "code",
   "execution_count": 60,
   "metadata": {},
   "outputs": [
    {
     "data": {
      "text/plain": [
       "25"
      ]
     },
     "execution_count": 60,
     "metadata": {},
     "output_type": "execute_result"
    }
   ],
   "source": [
    "len(model.wv)"
   ]
  },
  {
   "cell_type": "code",
   "execution_count": 61,
   "metadata": {},
   "outputs": [],
   "source": [
    "# saving the model\n",
    "model.wv.save_word2vec_format(\"./models/test_w2v.bin\",binary=True)"
   ]
  },
  {
   "cell_type": "code",
   "execution_count": 62,
   "metadata": {},
   "outputs": [],
   "source": [
    "# loading the KeyedVectors\n",
    "model = KeyedVectors.load_word2vec_format(\"./models/test_w2v.bin\",binary=True)"
   ]
  },
  {
   "cell_type": "code",
   "execution_count": 71,
   "metadata": {},
   "outputs": [
    {
     "data": {
      "text/plain": [
       "[('receive', 0.10194532573223114),\n",
       " ('ceremony', 0.08790984749794006),\n",
       " ('attend', 0.07373413443565369),\n",
       " ('albert', 0.048132069408893585),\n",
       " ('prize', 0.0426732674241066),\n",
       " ('have', 0.037428487092256546),\n",
       " ('marry', 0.02644934691488743),\n",
       " ('for', 0.016616368666291237),\n",
       " ('bear', 0.01109641045331955),\n",
       " ('where', 0.00639458978548646)]"
      ]
     },
     "execution_count": 71,
     "metadata": {},
     "output_type": "execute_result"
    }
   ],
   "source": [
    "model.most_similar('brother')"
   ]
  },
  {
   "cell_type": "markdown",
   "metadata": {},
   "source": [
    "## Sentence Similarity: Approach 1"
   ]
  },
  {
   "cell_type": "code",
   "execution_count": 64,
   "metadata": {},
   "outputs": [],
   "source": [
    "# extracting word vectos\n",
    "embeddings_index = {}\n",
    "\n",
    "for word,vector in zip(model.index_to_key,model.vectors):\n",
    "    coefs = np.asarray(vector)\n",
    "    embeddings_index[word]=coefs"
   ]
  },
  {
   "cell_type": "code",
   "execution_count": 65,
   "metadata": {},
   "outputs": [],
   "source": [
    "def avg_feature_vector(sentence, model, num_features):\n",
    "    words = sentence.split()\n",
    "    #feature vector is initialized as an empty array\n",
    "    feature_vec = np.zeros((num_features, ))\n",
    "    n_words = 0\n",
    "    for word in words:\n",
    "        if word in embeddings_index.keys():\n",
    "            n_words += 1\n",
    "            feature_vec = np.add(feature_vec, model[word])\n",
    "    if (n_words > 0):\n",
    "        feature_vec = np.divide(feature_vec, n_words)\n",
    "    return feature_vec"
   ]
  },
  {
   "cell_type": "code",
   "execution_count": 66,
   "metadata": {},
   "outputs": [
    {
     "name": "stdout",
     "output_type": "stream",
     "text": [
      "0\n"
     ]
    },
    {
     "name": "stderr",
     "output_type": "stream",
     "text": [
      "d:\\Anaconda\\envs\\NLP\\lib\\site-packages\\scipy\\spatial\\distance.py:620: RuntimeWarning: invalid value encountered in double_scalars\n",
      "  dist = 1.0 - uv / np.sqrt(uu * vv)\n"
     ]
    }
   ],
   "source": [
    "s1_afv = avg_feature_vector(\n",
    "    'When did he die?', model=embeddings_index, num_features=100)\n",
    "s2_afv = avg_feature_vector(\n",
    "    'What is the date of his death?', model=embeddings_index, num_features=100)\n",
    "cos = distance.cosine(s1_afv, s2_afv)\n",
    "print(cos)"
   ]
  },
  {
   "cell_type": "markdown",
   "metadata": {},
   "source": [
    "## Sentence Similarity: Appraoch 2"
   ]
  },
  {
   "cell_type": "code",
   "execution_count": 67,
   "metadata": {},
   "outputs": [],
   "source": [
    "target_sentence = \"What is the date of his death?\""
   ]
  },
  {
   "cell_type": "code",
   "execution_count": 68,
   "metadata": {},
   "outputs": [],
   "source": [
    "questions_similarity = np.zeros(len(questions))"
   ]
  },
  {
   "cell_type": "code",
   "execution_count": 69,
   "metadata": {},
   "outputs": [],
   "source": [
    "target_qs_words = [w for w in target_sentence.split() if w in model.index_to_key]"
   ]
  },
  {
   "cell_type": "code",
   "execution_count": 70,
   "metadata": {},
   "outputs": [
    {
     "data": {
      "text/plain": [
       "[]"
      ]
     },
     "execution_count": 70,
     "metadata": {},
     "output_type": "execute_result"
    }
   ],
   "source": [
    "target_qs_words"
   ]
  },
  {
   "cell_type": "markdown",
   "metadata": {},
   "source": [
    "Note:\n",
    "- Could not solve the OOV problem with manually trained embedding, which is not at all surprising... as the the vocab size is rather very small!\n",
    "- Theres a way to handle it though, by using data augementation!"
   ]
  }
 ],
 "metadata": {
  "kernelspec": {
   "display_name": "Python 3.10.6 ('NLP')",
   "language": "python",
   "name": "python3"
  },
  "language_info": {
   "codemirror_mode": {
    "name": "ipython",
    "version": 3
   },
   "file_extension": ".py",
   "mimetype": "text/x-python",
   "name": "python",
   "nbconvert_exporter": "python",
   "pygments_lexer": "ipython3",
   "version": "3.10.6"
  },
  "orig_nbformat": 4,
  "vscode": {
   "interpreter": {
    "hash": "b308425c1363782e5433040c69737be01249237cf93c313549cb11eaac821734"
   }
  }
 },
 "nbformat": 4,
 "nbformat_minor": 2
}
