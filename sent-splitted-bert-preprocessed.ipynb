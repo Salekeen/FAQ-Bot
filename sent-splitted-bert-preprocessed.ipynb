{
 "cells": [
  {
   "cell_type": "code",
   "execution_count": 29,
   "metadata": {},
   "outputs": [],
   "source": [
    "import pandas as pd\n",
    "from nltk.tokenize import sent_tokenize\n",
    "pd.set_option('display.max_colwidth', None)\n",
    "\n",
    "from sentence_transformers import SentenceTransformer\n",
    "from sklearn.metrics.pairwise import cosine_similarity\n",
    "\n",
    "import warnings\n",
    "warnings.filterwarnings(\"ignore\")"
   ]
  },
  {
   "cell_type": "code",
   "execution_count": 30,
   "metadata": {},
   "outputs": [],
   "source": [
    "def get_new_df(df):\n",
    "    new_df = pd.DataFrame(columns=['Answer', 'Index'])\n",
    "    texts = []\n",
    "    indexes = []\n",
    "    for index in range(len(df)):\n",
    "        text_list = sent_tokenize(df['Answer'][index])\n",
    "        for text in text_list:\n",
    "            texts.append(text)\n",
    "            indexes.append(index)\n",
    "\n",
    "    new_df['Answer'] = pd.Series(texts)\n",
    "    new_df['Index'] = pd.Series(indexes)\n",
    "    return new_df"
   ]
  },
  {
   "cell_type": "code",
   "execution_count": 31,
   "metadata": {},
   "outputs": [],
   "source": [
    "df = pd.read_csv(\"./data/FAQs.csv\")\n",
    "test_df = pd.read_csv(\"./data/FAQs_test.csv\")\n",
    "new_df = get_new_df(df)"
   ]
  },
  {
   "cell_type": "markdown",
   "metadata": {},
   "source": [
    "## Preprocessing"
   ]
  },
  {
   "cell_type": "code",
   "execution_count": 32,
   "metadata": {},
   "outputs": [],
   "source": [
    "import textacy\n",
    "import spacy"
   ]
  },
  {
   "cell_type": "code",
   "execution_count": 33,
   "metadata": {},
   "outputs": [],
   "source": [
    "def extract_lemmas(doc, **kwargs):\n",
    "    return [t.lemma_ for t in textacy.extract.words(doc, **kwargs)]\n",
    "\n",
    "\n",
    "def extract_nlp(doc):\n",
    "    return {\n",
    "        'lemmas': extract_lemmas(doc, filter_stops=False),\n",
    "    }\n"
   ]
  },
  {
   "cell_type": "code",
   "execution_count": 34,
   "metadata": {},
   "outputs": [],
   "source": [
    "def preprocess(df, process_column):\n",
    "\n",
    "    nlp = spacy.load('en_core_web_md')\n",
    "    nlp_columns = list(extract_nlp(nlp.make_doc('')).keys())\n",
    "    for col in nlp_columns:\n",
    "        df[col] = None\n",
    "\n",
    "    docs = nlp.pipe(df[process_column])\n",
    "\n",
    "    for j, doc in enumerate(docs):\n",
    "        for col, values in extract_nlp(doc).items():\n",
    "            df[col].iloc[j] = values\n",
    "\n",
    "    df[nlp_columns] = df[nlp_columns].applymap(lambda items: ' '.join(items))\n",
    "\n",
    "    return df"
   ]
  },
  {
   "cell_type": "code",
   "execution_count": 35,
   "metadata": {},
   "outputs": [],
   "source": [
    "new_df_processed = preprocess(new_df,'Answer')\n",
    "test_df_processed = preprocess(test_df,'Question')"
   ]
  },
  {
   "cell_type": "code",
   "execution_count": 36,
   "metadata": {},
   "outputs": [
    {
     "data": {
      "text/html": [
       "<div>\n",
       "<style scoped>\n",
       "    .dataframe tbody tr th:only-of-type {\n",
       "        vertical-align: middle;\n",
       "    }\n",
       "\n",
       "    .dataframe tbody tr th {\n",
       "        vertical-align: top;\n",
       "    }\n",
       "\n",
       "    .dataframe thead th {\n",
       "        text-align: right;\n",
       "    }\n",
       "</style>\n",
       "<table border=\"1\" class=\"dataframe\">\n",
       "  <thead>\n",
       "    <tr style=\"text-align: right;\">\n",
       "      <th></th>\n",
       "      <th>Answer</th>\n",
       "      <th>Index</th>\n",
       "      <th>lemmas</th>\n",
       "    </tr>\n",
       "  </thead>\n",
       "  <tbody>\n",
       "    <tr>\n",
       "      <th>0</th>\n",
       "      <td>Albert Einstein was born on 14 March 1879.</td>\n",
       "      <td>0</td>\n",
       "      <td>Albert Einstein be bear on 14 March 1879</td>\n",
       "    </tr>\n",
       "    <tr>\n",
       "      <th>1</th>\n",
       "      <td>He was born in Ulm, Germany.</td>\n",
       "      <td>1</td>\n",
       "      <td>he be bear in Ulm Germany</td>\n",
       "    </tr>\n",
       "    <tr>\n",
       "      <th>2</th>\n",
       "      <td>He died 18 April 1955 in Princeton, New Jersey, USA.</td>\n",
       "      <td>2</td>\n",
       "      <td>he die 18 April 1955 in Princeton New Jersey USA</td>\n",
       "    </tr>\n",
       "    <tr>\n",
       "      <th>3</th>\n",
       "      <td>His father was Hermann Einstein and his mother was Pauline Einstein (born Koch).</td>\n",
       "      <td>3</td>\n",
       "      <td>his father be Hermann Einstein and his mother be Pauline Einstein bear Koch</td>\n",
       "    </tr>\n",
       "    <tr>\n",
       "      <th>4</th>\n",
       "      <td>He had one sister named Maja.</td>\n",
       "      <td>4</td>\n",
       "      <td>he have one sister name Maja</td>\n",
       "    </tr>\n",
       "    <tr>\n",
       "      <th>5</th>\n",
       "      <td>He was married to Mileva Marić between 1903 and 1919.</td>\n",
       "      <td>5</td>\n",
       "      <td>he be married to Mileva Marić between 1903 and 1919</td>\n",
       "    </tr>\n",
       "    <tr>\n",
       "      <th>6</th>\n",
       "      <td>They had three children, Lieserl (born 1902), Hans Albert (born 1904) and Eduard (born 1910).</td>\n",
       "      <td>5</td>\n",
       "      <td>they have three child Lieserl bear 1902 Hans Albert bear 1904 and Eduard bear 1910</td>\n",
       "    </tr>\n",
       "    <tr>\n",
       "      <th>7</th>\n",
       "      <td>He married Elsa Löwenthal in 1919 and they lived together until her death in 1936.</td>\n",
       "      <td>5</td>\n",
       "      <td>he marry Elsa Löwenthal in 1919 and they live together until her death in 1936</td>\n",
       "    </tr>\n",
       "    <tr>\n",
       "      <th>8</th>\n",
       "      <td>He received his main education at the following schools: Catholic elementary school in Munich, Germany (1885-1888)Luitpold Gymnasium in Munich, Germany (1888-1894) Cantonal school in Aarau, Switzerland (1895-1896) Swiss Federal Institute of Technology in Zurich, Switzerland (1896-1900) Ph.D. from Zurich University, Switzerland (1905)</td>\n",
       "      <td>6</td>\n",
       "      <td>he receive his main education at the follow school catholic elementary school in Munich Germany 1885 1888)luitpold Gymnasium in Munich Germany 1888 1894 cantonal school in Aarau Switzerland 1895 1896 Swiss Federal Institute of Technology in Zurich Switzerland 1896 1900 ph.d. from Zurich University Switzerland 1905</td>\n",
       "    </tr>\n",
       "    <tr>\n",
       "      <th>9</th>\n",
       "      <td>The Nobel Prize Awarding Institution, the Royal Swedish Academy of Sciences, decided to reserve the Nobel Prize in Physics in 1921, and therefore no Physics Prize was awarded that year.</td>\n",
       "      <td>7</td>\n",
       "      <td>the Nobel Prize Awarding Institution the Royal Swedish Academy of Sciences decide to reserve the Nobel Prize in Physics in 1921 and therefore no Physics Prize be award that year</td>\n",
       "    </tr>\n",
       "    <tr>\n",
       "      <th>10</th>\n",
       "      <td>According to the statutes, a reserved prize can be awarded the year after, and Albert Einstein was awarded the 1921 Nobel Prize in Physics in 1922.</td>\n",
       "      <td>7</td>\n",
       "      <td>accord to the statute a reserved prize can be award the year after and Albert Einstein be award the 1921 Nobel Prize in Physics in 1922</td>\n",
       "    </tr>\n",
       "    <tr>\n",
       "      <th>11</th>\n",
       "      <td>The Nobel Prize was announced on 9 November 1922.</td>\n",
       "      <td>8</td>\n",
       "      <td>the Nobel Prize be announce on 9 November 1922</td>\n",
       "    </tr>\n",
       "    <tr>\n",
       "      <th>12</th>\n",
       "      <td>Being too remote from Sweden, Albert Einstein could not attend the Nobel Prize Award Ceremony in Stockholm on 10 December the same year.</td>\n",
       "      <td>8</td>\n",
       "      <td>be too remote from Sweden Albert Einstein could not attend the Nobel Prize Award Ceremony in Stockholm on 10 December the same year</td>\n",
       "    </tr>\n",
       "    <tr>\n",
       "      <th>13</th>\n",
       "      <td>Einstein was rewarded for his many contributions to theoretical physics, and especially for his discovery of the law of the photoelectric effect.</td>\n",
       "      <td>9</td>\n",
       "      <td>Einstein be reward for his many contribution to theoretical physic and especially for his discovery of the law of the photoelectric effect</td>\n",
       "    </tr>\n",
       "  </tbody>\n",
       "</table>\n",
       "</div>"
      ],
      "text/plain": [
       "                                                                                                                                                                                                                                                                                                                                             Answer  \\\n",
       "0                                                                                                                                                                                                                                                                                                        Albert Einstein was born on 14 March 1879.   \n",
       "1                                                                                                                                                                                                                                                                                                                      He was born in Ulm, Germany.   \n",
       "2                                                                                                                                                                                                                                                                                              He died 18 April 1955 in Princeton, New Jersey, USA.   \n",
       "3                                                                                                                                                                                                                                                                  His father was Hermann Einstein and his mother was Pauline Einstein (born Koch).   \n",
       "4                                                                                                                                                                                                                                                                                                                     He had one sister named Maja.   \n",
       "5                                                                                                                                                                                                                                                                                             He was married to Mileva Marić between 1903 and 1919.   \n",
       "6                                                                                                                                                                                                                                                     They had three children, Lieserl (born 1902), Hans Albert (born 1904) and Eduard (born 1910).   \n",
       "7                                                                                                                                                                                                                                                                He married Elsa Löwenthal in 1919 and they lived together until her death in 1936.   \n",
       "8   He received his main education at the following schools: Catholic elementary school in Munich, Germany (1885-1888)Luitpold Gymnasium in Munich, Germany (1888-1894) Cantonal school in Aarau, Switzerland (1895-1896) Swiss Federal Institute of Technology in Zurich, Switzerland (1896-1900) Ph.D. from Zurich University, Switzerland (1905)   \n",
       "9                                                                                                                                                         The Nobel Prize Awarding Institution, the Royal Swedish Academy of Sciences, decided to reserve the Nobel Prize in Physics in 1921, and therefore no Physics Prize was awarded that year.   \n",
       "10                                                                                                                                                                                              According to the statutes, a reserved prize can be awarded the year after, and Albert Einstein was awarded the 1921 Nobel Prize in Physics in 1922.   \n",
       "11                                                                                                                                                                                                                                                                                                The Nobel Prize was announced on 9 November 1922.   \n",
       "12                                                                                                                                                                                                         Being too remote from Sweden, Albert Einstein could not attend the Nobel Prize Award Ceremony in Stockholm on 10 December the same year.   \n",
       "13                                                                                                                                                                                                Einstein was rewarded for his many contributions to theoretical physics, and especially for his discovery of the law of the photoelectric effect.   \n",
       "\n",
       "    Index  \\\n",
       "0       0   \n",
       "1       1   \n",
       "2       2   \n",
       "3       3   \n",
       "4       4   \n",
       "5       5   \n",
       "6       5   \n",
       "7       5   \n",
       "8       6   \n",
       "9       7   \n",
       "10      7   \n",
       "11      8   \n",
       "12      8   \n",
       "13      9   \n",
       "\n",
       "                                                                                                                                                                                                                                                                                                                         lemmas  \n",
       "0                                                                                                                                                                                                                                                                                      Albert Einstein be bear on 14 March 1879  \n",
       "1                                                                                                                                                                                                                                                                                                     he be bear in Ulm Germany  \n",
       "2                                                                                                                                                                                                                                                                              he die 18 April 1955 in Princeton New Jersey USA  \n",
       "3                                                                                                                                                                                                                                                   his father be Hermann Einstein and his mother be Pauline Einstein bear Koch  \n",
       "4                                                                                                                                                                                                                                                                                                  he have one sister name Maja  \n",
       "5                                                                                                                                                                                                                                                                           he be married to Mileva Marić between 1903 and 1919  \n",
       "6                                                                                                                                                                                                                                            they have three child Lieserl bear 1902 Hans Albert bear 1904 and Eduard bear 1910  \n",
       "7                                                                                                                                                                                                                                                he marry Elsa Löwenthal in 1919 and they live together until her death in 1936  \n",
       "8   he receive his main education at the follow school catholic elementary school in Munich Germany 1885 1888)luitpold Gymnasium in Munich Germany 1888 1894 cantonal school in Aarau Switzerland 1895 1896 Swiss Federal Institute of Technology in Zurich Switzerland 1896 1900 ph.d. from Zurich University Switzerland 1905  \n",
       "9                                                                                                                                             the Nobel Prize Awarding Institution the Royal Swedish Academy of Sciences decide to reserve the Nobel Prize in Physics in 1921 and therefore no Physics Prize be award that year  \n",
       "10                                                                                                                                                                                      accord to the statute a reserved prize can be award the year after and Albert Einstein be award the 1921 Nobel Prize in Physics in 1922  \n",
       "11                                                                                                                                                                                                                                                                               the Nobel Prize be announce on 9 November 1922  \n",
       "12                                                                                                                                                                                          be too remote from Sweden Albert Einstein could not attend the Nobel Prize Award Ceremony in Stockholm on 10 December the same year  \n",
       "13                                                                                                                                                                                   Einstein be reward for his many contribution to theoretical physic and especially for his discovery of the law of the photoelectric effect  "
      ]
     },
     "execution_count": 36,
     "metadata": {},
     "output_type": "execute_result"
    }
   ],
   "source": [
    "new_df_processed"
   ]
  },
  {
   "cell_type": "code",
   "execution_count": 37,
   "metadata": {},
   "outputs": [],
   "source": [
    "# init the model\n",
    "model = SentenceTransformer('sentence-transformers/all-MiniLM-L6-v2')\n",
    "answers = new_df['Answer']\n",
    "answer_embedding = model.encode(answers)"
   ]
  },
  {
   "cell_type": "code",
   "execution_count": 38,
   "metadata": {},
   "outputs": [],
   "source": [
    "def check_test_set(test_df):\n",
    "    for i in range(len(test_df)):\n",
    "\n",
    "        target_qs = test_df['Question'][i]\n",
    "        target_qs_embedding = model.encode(target_qs)\n",
    "\n",
    "        index = cosine_similarity(\n",
    "            [target_qs_embedding],\n",
    "            answer_embedding[:]\n",
    "        ).argmax()\n",
    "\n",
    "        new_df['Index'][index]\n",
    "\n",
    "        print(target_qs)\n",
    "        print(df['Answer'][new_df['Index'][index]])\n",
    "        print(\"\\n\")"
   ]
  },
  {
   "cell_type": "code",
   "execution_count": 39,
   "metadata": {},
   "outputs": [
    {
     "name": "stdout",
     "output_type": "stream",
     "text": [
      "What is the date of his death?\n",
      "He died 18 April 1955 in Princeton, New Jersey, USA.\n",
      "\n",
      "\n",
      "Did Einstein have siblings?\n",
      "His father was Hermann Einstein and his mother was Pauline Einstein (born Koch).\n",
      "\n",
      "\n",
      "Who was his wife?\n",
      "He was married to Mileva Marić between 1903 and 1919. They had three children, Lieserl (born 1902), Hans Albert (born 1904) and Eduard (born 1910). He married Elsa Löwenthal in 1919 and they lived together until her death in 1936.\n",
      "\n",
      "\n",
      "What was Einstein's father's name?\n",
      "His father was Hermann Einstein and his mother was Pauline Einstein (born Koch).\n",
      "\n",
      "\n",
      "At what institutions did he study?\n",
      "He received his main education at the following schools: Catholic elementary school in Munich, Germany (1885-1888)Luitpold Gymnasium in Munich, Germany (1888-1894) Cantonal school in Aarau, Switzerland (1895-1896) Swiss Federal Institute of Technology in Zurich, Switzerland (1896-1900) Ph.D. from Zurich University, Switzerland (1905)\n",
      "\n",
      "\n"
     ]
    }
   ],
   "source": [
    "check_test_set(test_df_processed)"
   ]
  },
  {
   "cell_type": "code",
   "execution_count": null,
   "metadata": {},
   "outputs": [],
   "source": []
  }
 ],
 "metadata": {
  "kernelspec": {
   "display_name": "Python 3.10.6 ('NLP')",
   "language": "python",
   "name": "python3"
  },
  "language_info": {
   "codemirror_mode": {
    "name": "ipython",
    "version": 3
   },
   "file_extension": ".py",
   "mimetype": "text/x-python",
   "name": "python",
   "nbconvert_exporter": "python",
   "pygments_lexer": "ipython3",
   "version": "3.10.6"
  },
  "orig_nbformat": 4,
  "vscode": {
   "interpreter": {
    "hash": "b308425c1363782e5433040c69737be01249237cf93c313549cb11eaac821734"
   }
  }
 },
 "nbformat": 4,
 "nbformat_minor": 2
}
