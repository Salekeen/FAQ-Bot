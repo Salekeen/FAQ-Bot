{
 "cells": [
  {
   "cell_type": "code",
   "execution_count": 220,
   "metadata": {},
   "outputs": [],
   "source": [
    "import pandas as pd\n",
    "from nltk.tokenize import sent_tokenize\n",
    "pd.set_option('display.max_colwidth', None)\n",
    "\n",
    "from sentence_transformers import SentenceTransformer\n",
    "from sklearn.metrics.pairwise import cosine_similarity"
   ]
  },
  {
   "cell_type": "code",
   "execution_count": 221,
   "metadata": {},
   "outputs": [],
   "source": [
    "def get_new_df(df):\n",
    "    new_df = pd.DataFrame(columns=['Answer', 'Index'])\n",
    "    texts = []\n",
    "    indexes = []\n",
    "    for index in range(len(df)):\n",
    "        text_list = sent_tokenize(df['Answer'][index])\n",
    "        for text in text_list:\n",
    "            texts.append(text)\n",
    "            indexes.append(index)\n",
    "    new_df['Answer'] = pd.Series(texts)\n",
    "    new_df['Index'] = pd.Series(indexes)\n",
    "    return new_df"
   ]
  },
  {
   "cell_type": "code",
   "execution_count": 222,
   "metadata": {},
   "outputs": [],
   "source": [
    "df = pd.read_csv(\"./data/FAQs.csv\")\n",
    "new_df = get_new_df(df)"
   ]
  },
  {
   "cell_type": "code",
   "execution_count": 228,
   "metadata": {},
   "outputs": [],
   "source": [
    "# init the model\n",
    "model = SentenceTransformer('sentence-transformers/all-MiniLM-L6-v2')\n",
    "answers = new_df['Answer']\n",
    "answer_embedding = model.encode(answers)\n",
    "test_df = pd.read_csv(\"./data/FAQs_test.csv\")\n",
    "target_qs = test_df['Question'][1]\n",
    "target_qs_embedding = model.encode(target_qs)"
   ]
  },
  {
   "cell_type": "code",
   "execution_count": 229,
   "metadata": {},
   "outputs": [
    {
     "name": "stdout",
     "output_type": "stream",
     "text": [
      "Did Einstein have siblings?\n",
      "His father was Hermann Einstein and his mother was Pauline Einstein (born Koch).\n"
     ]
    }
   ],
   "source": [
    "index = cosine_similarity(\n",
    "    [target_qs_embedding],\n",
    "    answer_embedding[:]\n",
    ").argmax()\n",
    "\n",
    "new_df['Index'][index]\n",
    "\n",
    "print(target_qs)\n",
    "print(df['Answer'][new_df['Index'][index]])"
   ]
  }
 ],
 "metadata": {
  "kernelspec": {
   "display_name": "Python 3.10.6 ('NLP')",
   "language": "python",
   "name": "python3"
  },
  "language_info": {
   "codemirror_mode": {
    "name": "ipython",
    "version": 3
   },
   "file_extension": ".py",
   "mimetype": "text/x-python",
   "name": "python",
   "nbconvert_exporter": "python",
   "pygments_lexer": "ipython3",
   "version": "3.10.6"
  },
  "orig_nbformat": 4,
  "vscode": {
   "interpreter": {
    "hash": "b308425c1363782e5433040c69737be01249237cf93c313549cb11eaac821734"
   }
  }
 },
 "nbformat": 4,
 "nbformat_minor": 2
}
