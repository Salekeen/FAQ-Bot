{
 "cells": [
  {
   "cell_type": "markdown",
   "metadata": {},
   "source": [
    "Answers are splitted by sentence and theres not preprocessing done here!"
   ]
  },
  {
   "cell_type": "code",
   "execution_count": 27,
   "metadata": {},
   "outputs": [],
   "source": [
    "import pandas as pd\n",
    "from nltk.tokenize import sent_tokenize\n",
    "pd.set_option('display.max_colwidth', None)\n",
    "\n",
    "from sentence_transformers import SentenceTransformer\n",
    "from sklearn.metrics.pairwise import cosine_similarity"
   ]
  },
  {
   "cell_type": "code",
   "execution_count": 28,
   "metadata": {},
   "outputs": [],
   "source": [
    "def get_new_df(df):\n",
    "    new_df = pd.DataFrame(columns=['Answer', 'Index'])\n",
    "    texts = []\n",
    "    indexes = []\n",
    "    for index in range(len(df)):\n",
    "        text_list = sent_tokenize(df['Answer'][index])\n",
    "        for text in text_list:\n",
    "            texts.append(text)\n",
    "            indexes.append(index)\n",
    "\n",
    "    new_df['Answer'] = pd.Series(texts)\n",
    "    new_df['Index'] = pd.Series(indexes)\n",
    "    return new_df"
   ]
  },
  {
   "cell_type": "code",
   "execution_count": 29,
   "metadata": {},
   "outputs": [],
   "source": [
    "df = pd.read_csv(\"./data/FAQs.csv\")\n",
    "new_df = get_new_df(df)"
   ]
  },
  {
   "cell_type": "code",
   "execution_count": 30,
   "metadata": {},
   "outputs": [],
   "source": [
    "# init the model\n",
    "model = SentenceTransformer('sentence-transformers/all-MiniLM-L6-v2')\n",
    "answers = new_df['Answer']\n",
    "answer_embedding = model.encode(answers)"
   ]
  },
  {
   "cell_type": "code",
   "execution_count": 31,
   "metadata": {},
   "outputs": [],
   "source": [
    "def check_test_set(test_df):\n",
    "    for i in range(len(test_df)):\n",
    "\n",
    "        target_qs = test_df['Question'][i]\n",
    "        target_qs_embedding = model.encode(target_qs)\n",
    "\n",
    "        index = cosine_similarity(\n",
    "            [target_qs_embedding],\n",
    "            answer_embedding[:]\n",
    "        ).argmax()\n",
    "\n",
    "        new_df['Index'][index]\n",
    "\n",
    "        print(target_qs)\n",
    "        print(df['Answer'][new_df['Index'][index]])\n",
    "        print(\"\\n\")\n"
   ]
  },
  {
   "cell_type": "code",
   "execution_count": 32,
   "metadata": {},
   "outputs": [
    {
     "data": {
      "text/html": [
       "<div>\n",
       "<style scoped>\n",
       "    .dataframe tbody tr th:only-of-type {\n",
       "        vertical-align: middle;\n",
       "    }\n",
       "\n",
       "    .dataframe tbody tr th {\n",
       "        vertical-align: top;\n",
       "    }\n",
       "\n",
       "    .dataframe thead th {\n",
       "        text-align: right;\n",
       "    }\n",
       "</style>\n",
       "<table border=\"1\" class=\"dataframe\">\n",
       "  <thead>\n",
       "    <tr style=\"text-align: right;\">\n",
       "      <th></th>\n",
       "      <th>Answer</th>\n",
       "      <th>Index</th>\n",
       "    </tr>\n",
       "  </thead>\n",
       "  <tbody>\n",
       "    <tr>\n",
       "      <th>0</th>\n",
       "      <td>Albert Einstein was born on 14 March 1879.</td>\n",
       "      <td>0</td>\n",
       "    </tr>\n",
       "    <tr>\n",
       "      <th>1</th>\n",
       "      <td>He was born in Ulm, Germany.</td>\n",
       "      <td>1</td>\n",
       "    </tr>\n",
       "    <tr>\n",
       "      <th>2</th>\n",
       "      <td>He died 18 April 1955 in Princeton, New Jersey, USA.</td>\n",
       "      <td>2</td>\n",
       "    </tr>\n",
       "    <tr>\n",
       "      <th>3</th>\n",
       "      <td>His father was Hermann Einstein and his mother was Pauline Einstein (born Koch).</td>\n",
       "      <td>3</td>\n",
       "    </tr>\n",
       "    <tr>\n",
       "      <th>4</th>\n",
       "      <td>He had one sister named Maja.</td>\n",
       "      <td>4</td>\n",
       "    </tr>\n",
       "    <tr>\n",
       "      <th>5</th>\n",
       "      <td>He was married to Mileva Marić between 1903 and 1919.</td>\n",
       "      <td>5</td>\n",
       "    </tr>\n",
       "    <tr>\n",
       "      <th>6</th>\n",
       "      <td>They had three children, Lieserl (born 1902), Hans Albert (born 1904) and Eduard (born 1910).</td>\n",
       "      <td>5</td>\n",
       "    </tr>\n",
       "    <tr>\n",
       "      <th>7</th>\n",
       "      <td>He married Elsa Löwenthal in 1919 and they lived together until her death in 1936.</td>\n",
       "      <td>5</td>\n",
       "    </tr>\n",
       "    <tr>\n",
       "      <th>8</th>\n",
       "      <td>He received his main education at the following schools: Catholic elementary school in Munich, Germany (1885-1888)Luitpold Gymnasium in Munich, Germany (1888-1894) Cantonal school in Aarau, Switzerland (1895-1896) Swiss Federal Institute of Technology in Zurich, Switzerland (1896-1900) Ph.D. from Zurich University, Switzerland (1905)</td>\n",
       "      <td>6</td>\n",
       "    </tr>\n",
       "    <tr>\n",
       "      <th>9</th>\n",
       "      <td>The Nobel Prize Awarding Institution, the Royal Swedish Academy of Sciences, decided to reserve the Nobel Prize in Physics in 1921, and therefore no Physics Prize was awarded that year.</td>\n",
       "      <td>7</td>\n",
       "    </tr>\n",
       "    <tr>\n",
       "      <th>10</th>\n",
       "      <td>According to the statutes, a reserved prize can be awarded the year after, and Albert Einstein was awarded the 1921 Nobel Prize in Physics in 1922.</td>\n",
       "      <td>7</td>\n",
       "    </tr>\n",
       "    <tr>\n",
       "      <th>11</th>\n",
       "      <td>The Nobel Prize was announced on 9 November 1922.</td>\n",
       "      <td>8</td>\n",
       "    </tr>\n",
       "    <tr>\n",
       "      <th>12</th>\n",
       "      <td>Being too remote from Sweden, Albert Einstein could not attend the Nobel Prize Award Ceremony in Stockholm on 10 December the same year.</td>\n",
       "      <td>8</td>\n",
       "    </tr>\n",
       "    <tr>\n",
       "      <th>13</th>\n",
       "      <td>Einstein was rewarded for his many contributions to theoretical physics, and especially for his discovery of the law of the photoelectric effect.</td>\n",
       "      <td>9</td>\n",
       "    </tr>\n",
       "  </tbody>\n",
       "</table>\n",
       "</div>"
      ],
      "text/plain": [
       "                                                                                                                                                                                                                                                                                                                                             Answer  \\\n",
       "0                                                                                                                                                                                                                                                                                                        Albert Einstein was born on 14 March 1879.   \n",
       "1                                                                                                                                                                                                                                                                                                                      He was born in Ulm, Germany.   \n",
       "2                                                                                                                                                                                                                                                                                              He died 18 April 1955 in Princeton, New Jersey, USA.   \n",
       "3                                                                                                                                                                                                                                                                  His father was Hermann Einstein and his mother was Pauline Einstein (born Koch).   \n",
       "4                                                                                                                                                                                                                                                                                                                     He had one sister named Maja.   \n",
       "5                                                                                                                                                                                                                                                                                             He was married to Mileva Marić between 1903 and 1919.   \n",
       "6                                                                                                                                                                                                                                                     They had three children, Lieserl (born 1902), Hans Albert (born 1904) and Eduard (born 1910).   \n",
       "7                                                                                                                                                                                                                                                                He married Elsa Löwenthal in 1919 and they lived together until her death in 1936.   \n",
       "8   He received his main education at the following schools: Catholic elementary school in Munich, Germany (1885-1888)Luitpold Gymnasium in Munich, Germany (1888-1894) Cantonal school in Aarau, Switzerland (1895-1896) Swiss Federal Institute of Technology in Zurich, Switzerland (1896-1900) Ph.D. from Zurich University, Switzerland (1905)   \n",
       "9                                                                                                                                                         The Nobel Prize Awarding Institution, the Royal Swedish Academy of Sciences, decided to reserve the Nobel Prize in Physics in 1921, and therefore no Physics Prize was awarded that year.   \n",
       "10                                                                                                                                                                                              According to the statutes, a reserved prize can be awarded the year after, and Albert Einstein was awarded the 1921 Nobel Prize in Physics in 1922.   \n",
       "11                                                                                                                                                                                                                                                                                                The Nobel Prize was announced on 9 November 1922.   \n",
       "12                                                                                                                                                                                                         Being too remote from Sweden, Albert Einstein could not attend the Nobel Prize Award Ceremony in Stockholm on 10 December the same year.   \n",
       "13                                                                                                                                                                                                Einstein was rewarded for his many contributions to theoretical physics, and especially for his discovery of the law of the photoelectric effect.   \n",
       "\n",
       "    Index  \n",
       "0       0  \n",
       "1       1  \n",
       "2       2  \n",
       "3       3  \n",
       "4       4  \n",
       "5       5  \n",
       "6       5  \n",
       "7       5  \n",
       "8       6  \n",
       "9       7  \n",
       "10      7  \n",
       "11      8  \n",
       "12      8  \n",
       "13      9  "
      ]
     },
     "execution_count": 32,
     "metadata": {},
     "output_type": "execute_result"
    }
   ],
   "source": [
    "new_df"
   ]
  },
  {
   "cell_type": "code",
   "execution_count": 33,
   "metadata": {},
   "outputs": [
    {
     "name": "stdout",
     "output_type": "stream",
     "text": [
      "What is the date of his death?\n",
      "He died 18 April 1955 in Princeton, New Jersey, USA.\n",
      "\n",
      "\n",
      "Did Einstein have siblings?\n",
      "His father was Hermann Einstein and his mother was Pauline Einstein (born Koch).\n",
      "\n",
      "\n",
      "Who was his wife?\n",
      "He was married to Mileva Marić between 1903 and 1919. They had three children, Lieserl (born 1902), Hans Albert (born 1904) and Eduard (born 1910). He married Elsa Löwenthal in 1919 and they lived together until her death in 1936.\n",
      "\n",
      "\n",
      "What was Einstein's father's name?\n",
      "His father was Hermann Einstein and his mother was Pauline Einstein (born Koch).\n",
      "\n",
      "\n",
      "At what institutions did he study?\n",
      "He received his main education at the following schools: Catholic elementary school in Munich, Germany (1885-1888)Luitpold Gymnasium in Munich, Germany (1888-1894) Cantonal school in Aarau, Switzerland (1895-1896) Swiss Federal Institute of Technology in Zurich, Switzerland (1896-1900) Ph.D. from Zurich University, Switzerland (1905)\n",
      "\n",
      "\n"
     ]
    }
   ],
   "source": [
    "test_df = pd.read_csv(\"./data/FAQs_test.csv\")\n",
    "check_test_set(test_df)"
   ]
  }
 ],
 "metadata": {
  "kernelspec": {
   "display_name": "Python 3.10.6 ('NLP')",
   "language": "python",
   "name": "python3"
  },
  "language_info": {
   "codemirror_mode": {
    "name": "ipython",
    "version": 3
   },
   "file_extension": ".py",
   "mimetype": "text/x-python",
   "name": "python",
   "nbconvert_exporter": "python",
   "pygments_lexer": "ipython3",
   "version": "3.10.6"
  },
  "orig_nbformat": 4,
  "vscode": {
   "interpreter": {
    "hash": "b308425c1363782e5433040c69737be01249237cf93c313549cb11eaac821734"
   }
  }
 },
 "nbformat": 4,
 "nbformat_minor": 2
}
