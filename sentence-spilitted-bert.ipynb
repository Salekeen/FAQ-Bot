{
 "cells": [
  {
   "cell_type": "code",
   "execution_count": 6,
   "metadata": {},
   "outputs": [],
   "source": [
    "import pandas as pd\n",
    "from nltk.tokenize import sent_tokenize\n",
    "pd.set_option('display.max_colwidth', None)\n",
    "\n",
    "from sentence_transformers import SentenceTransformer\n",
    "from sklearn.metrics.pairwise import cosine_similarity"
   ]
  },
  {
   "cell_type": "code",
   "execution_count": 7,
   "metadata": {},
   "outputs": [],
   "source": [
    "def get_new_df(df):\n",
    "    new_df = pd.DataFrame(columns=['Answer', 'Index'])\n",
    "    texts = []\n",
    "    indexes = []\n",
    "    for index in range(len(df)):\n",
    "        text_list = sent_tokenize(df['Answer'][index])\n",
    "        for text in text_list:\n",
    "            texts.append(text)\n",
    "            indexes.append(index)\n",
    "    new_df['Answer'] = pd.Series(texts)\n",
    "    new_df['Index'] = pd.Series(indexes)\n",
    "    return new_df"
   ]
  },
  {
   "cell_type": "code",
   "execution_count": 8,
   "metadata": {},
   "outputs": [],
   "source": [
    "df = pd.read_csv(\"./data/FAQs.csv\")\n",
    "new_df = get_new_df(df)"
   ]
  },
  {
   "cell_type": "code",
   "execution_count": 9,
   "metadata": {},
   "outputs": [],
   "source": [
    "# init the model\n",
    "model = SentenceTransformer('sentence-transformers/all-MiniLM-L6-v2')\n",
    "answers = new_df['Answer']\n",
    "answer_embedding = model.encode(answers)"
   ]
  },
  {
   "cell_type": "code",
   "execution_count": 10,
   "metadata": {},
   "outputs": [],
   "source": [
    "def check_test_set(test_df):\n",
    "    for i in range(len(test_df)):\n",
    "\n",
    "        target_qs = test_df['Question'][i]\n",
    "        target_qs_embedding = model.encode(target_qs)\n",
    "\n",
    "        index = cosine_similarity(\n",
    "            [target_qs_embedding],\n",
    "            answer_embedding[:]\n",
    "        ).argmax()\n",
    "\n",
    "        new_df['Index'][index]\n",
    "\n",
    "        print(target_qs)\n",
    "        print(df['Answer'][new_df['Index'][index]])\n",
    "        print(\"\\n\")\n"
   ]
  },
  {
   "cell_type": "code",
   "execution_count": 11,
   "metadata": {},
   "outputs": [
    {
     "name": "stdout",
     "output_type": "stream",
     "text": [
      "What is the date of his death?\n",
      "He died 18 April 1955 in Princeton, New Jersey, USA.\n",
      "\n",
      "\n",
      "Did Einstein have siblings?\n",
      "His father was Hermann Einstein and his mother was Pauline Einstein (born Koch).\n",
      "\n",
      "\n",
      "Who was his wife?\n",
      "He was married to Mileva Marić between 1903 and 1919. They had three children, Lieserl (born 1902), Hans Albert (born 1904) and Eduard (born 1910). He married Elsa Löwenthal in 1919 and they lived together until her death in 1936.\n",
      "\n",
      "\n",
      "What was Einstein's father's name?\n",
      "His father was Hermann Einstein and his mother was Pauline Einstein (born Koch).\n",
      "\n",
      "\n",
      "At what institutions did he study?\n",
      "He received his main education at the following schools: Catholic elementary school in Munich, Germany (1885-1888)Luitpold Gymnasium in Munich, Germany (1888-1894) Cantonal school in Aarau, Switzerland (1895-1896) Swiss Federal Institute of Technology in Zurich, Switzerland (1896-1900) Ph.D. from Zurich University, Switzerland (1905)\n",
      "\n",
      "\n"
     ]
    }
   ],
   "source": [
    "test_df = pd.read_csv(\"./data/FAQs_test.csv\")\n",
    "check_test_set(test_df)"
   ]
  }
 ],
 "metadata": {
  "kernelspec": {
   "display_name": "Python 3.10.6 ('NLP')",
   "language": "python",
   "name": "python3"
  },
  "language_info": {
   "codemirror_mode": {
    "name": "ipython",
    "version": 3
   },
   "file_extension": ".py",
   "mimetype": "text/x-python",
   "name": "python",
   "nbconvert_exporter": "python",
   "pygments_lexer": "ipython3",
   "version": "3.10.6"
  },
  "orig_nbformat": 4,
  "vscode": {
   "interpreter": {
    "hash": "b308425c1363782e5433040c69737be01249237cf93c313549cb11eaac821734"
   }
  }
 },
 "nbformat": 4,
 "nbformat_minor": 2
}
